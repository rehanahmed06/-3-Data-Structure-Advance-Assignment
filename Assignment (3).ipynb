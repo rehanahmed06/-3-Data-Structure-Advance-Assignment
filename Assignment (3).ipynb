{
 "cells": [
  {
   "cell_type": "code",
   "execution_count": 12,
   "id": "608b3a6c-a62c-40d5-af89-c50405ca0845",
   "metadata": {},
   "outputs": [
    {
     "data": {
      "text/plain": [
       "'irasnA demhA naheR'"
      ]
     },
     "execution_count": 12,
     "metadata": {},
     "output_type": "execute_result"
    }
   ],
   "source": [
    "# 1) Write a code to reverse a string.\n",
    "def reverse_string(string):\n",
    "  return string[::-1]\n",
    "\n",
    "# Example:-\n",
    "string = \"Rehan Ahmed Ansari\"\n",
    "reverse_string(string)"
   ]
  },
  {
   "cell_type": "code",
   "execution_count": 13,
   "id": "58a83225-b61a-45f2-b405-74c395d6c878",
   "metadata": {},
   "outputs": [
    {
     "data": {
      "text/plain": [
       "5"
      ]
     },
     "execution_count": 13,
     "metadata": {},
     "output_type": "execute_result"
    }
   ],
   "source": [
    "# 2)  Write a code to count the number of vowels in a string.\n",
    "def count_vowels(string):\n",
    "  vowels = \"aeiouAEIOU\"\n",
    "  count = 0\n",
    "  for char in string:\n",
    "    if char in vowels:\n",
    "      count += 1\n",
    "  return count\n",
    "# Example:-\n",
    "count_vowels(\"helloo students\")\n"
   ]
  },
  {
   "cell_type": "code",
   "execution_count": 20,
   "id": "da8134e3-3f16-496d-9ad5-c9814495cdab",
   "metadata": {},
   "outputs": [
    {
     "data": {
      "text/plain": [
       "True"
      ]
     },
     "execution_count": 20,
     "metadata": {},
     "output_type": "execute_result"
    }
   ],
   "source": [
    "# 3)  Write a code to check if a given string is a palindrome\n",
    "def is_palindrome(string):\n",
    "  return string == string[::-1]\n",
    "# Example:-\n",
    "is_palindrome(\"MaddaM\")"
   ]
  },
  {
   "cell_type": "code",
   "execution_count": 29,
   "id": "2728737a-809b-4dd9-81d0-9ced647feae7",
   "metadata": {},
   "outputs": [
    {
     "data": {
      "text/plain": [
       "True"
      ]
     },
     "execution_count": 29,
     "metadata": {},
     "output_type": "execute_result"
    }
   ],
   "source": [
    "# 4)  Write a code to check if two given strings are anagrams of each other.\n",
    "def are_anagrams(a,b):\n",
    "  return sorted(a) == sorted(b)\n",
    "\n",
    "# Example:-\n",
    "are_anagrams(\"listen\",\"silent\")"
   ]
  },
  {
   "cell_type": "code",
   "execution_count": 46,
   "id": "4488b66a-3826-4a79-a85a-ca7c615c7cd0",
   "metadata": {},
   "outputs": [
    {
     "data": {
      "text/plain": [
       "[0, 12]"
      ]
     },
     "execution_count": 46,
     "metadata": {},
     "output_type": "execute_result"
    }
   ],
   "source": [
    "# 5)  Write a code to find all occurrences of a given substring within another string.\n",
    "def find_substring_occurrences(string, substring):\n",
    "  start = 0\n",
    "  occurrences = []\n",
    "  while True:\n",
    "    index = string.find(substring, start)\n",
    "    if index == -1:\n",
    "      break\n",
    "    occurrences.append(index)\n",
    "    start = index + 1\n",
    "  return occurrences\n",
    "\n",
    "# Example:- \n",
    "find_substring_occurrences(\"hello world hello\" ,\"hello\")"
   ]
  },
  {
   "cell_type": "code",
   "execution_count": 58,
   "id": "a5508e84-80da-4134-983d-536f88ccd387",
   "metadata": {},
   "outputs": [
    {
     "data": {
      "text/plain": [
       "'r4g3e1j3a2k2e2'"
      ]
     },
     "execution_count": 58,
     "metadata": {},
     "output_type": "execute_result"
    }
   ],
   "source": [
    "# 6)  Write a code to perform basic string compression using the counts of repeated characters.\n",
    "def compress_string(string):\n",
    "  compressed = \"\"\n",
    "  count = 0\n",
    "  for i in range(len(string)):\n",
    "    count += 1\n",
    "    if i + 1 >= len(string) or string[i] != string[i + 1]:\n",
    "      compressed += string[i] + str(count)\n",
    "      count = 0\n",
    "  return compressed if len(compressed) < len(string) else string\n",
    "\n",
    "# Example:-\n",
    "compress_string(\"rrrrgggejjjaakkee\")"
   ]
  },
  {
   "cell_type": "code",
   "execution_count": 70,
   "id": "6ec56c7c-f6ea-4050-b6e8-07636cf22184",
   "metadata": {},
   "outputs": [
    {
     "data": {
      "text/plain": [
       "False"
      ]
     },
     "execution_count": 70,
     "metadata": {},
     "output_type": "execute_result"
    }
   ],
   "source": [
    "# 7)  Write a code to determine if a string has all unique characters.\n",
    "def has_unique_characters(string):\n",
    "  char_set = set()\n",
    "  for char in string:\n",
    "    if char in char_set:\n",
    "      return False\n",
    "    char_set.add(char)\n",
    "  return True\n",
    "\n",
    "# Example usage:\n",
    "has_unique_characters(\"bsgcccc\")"
   ]
  },
  {
   "cell_type": "code",
   "execution_count": 71,
   "id": "8fb7eace-21f2-4133-8833-1c2253000a99",
   "metadata": {},
   "outputs": [
    {
     "name": "stdout",
     "output_type": "stream",
     "text": [
      "HELLO WORLD\n",
      "hello world\n"
     ]
    }
   ],
   "source": [
    "# 8)  Write a code to convert a given string to uppercase or lowercase.\n",
    "def convert_case(string, to_upper=True):\n",
    "  if to_upper:\n",
    "    return string.upper()\n",
    "  else:\n",
    "    return string.lower()\n",
    "\n",
    "# Example usage:\n",
    "string = \"Hello World\"\n",
    "upper_case = convert_case(string)\n",
    "lower_case = convert_case(string, False)\n",
    "print(upper_case)  # Output: HELLO WORLD\n",
    "print(lower_case)  # Output: hello world"
   ]
  },
  {
   "cell_type": "code",
   "execution_count": 78,
   "id": "26b5ead4-1726-4ecf-a620-b3a1bd7f3ec5",
   "metadata": {},
   "outputs": [
    {
     "data": {
      "text/plain": [
       "12"
      ]
     },
     "execution_count": 78,
     "metadata": {},
     "output_type": "execute_result"
    }
   ],
   "source": [
    "# 9)  Write a code to count the number of words in a string.\n",
    "def count_words(string):\n",
    "  return len(string.split())\n",
    "\n",
    "# Example:-\n",
    "count_words(\"A function is a self-contained unit of code that executes when invoked\")"
   ]
  },
  {
   "cell_type": "code",
   "execution_count": 95,
   "id": "8e653009-adc4-4826-86eb-c207498422f5",
   "metadata": {},
   "outputs": [
    {
     "data": {
      "text/plain": [
       "'REhan AHmed'"
      ]
     },
     "execution_count": 95,
     "metadata": {},
     "output_type": "execute_result"
    }
   ],
   "source": [
    "# 10)  Write a code to concatenate two strings without using the + operator.\n",
    "def concatenate(a , b):\n",
    "    return a+b\n",
    "# Example:-\n",
    "concatenate(\"REhan\",\" AHmed\")"
   ]
  },
  {
   "cell_type": "code",
   "execution_count": 107,
   "id": "a42d6765-3adf-4c22-a5a0-d1d87484c212",
   "metadata": {},
   "outputs": [
    {
     "data": {
      "text/plain": [
       "[1, 2, 3, 2, 4, 2, 5, 6, 5]"
      ]
     },
     "execution_count": 107,
     "metadata": {},
     "output_type": "execute_result"
    }
   ],
   "source": [
    "# 11)  Write a code to remove all occurrences of a specific element from a list.\n",
    "def remove_all_occurrences(list_, element):\n",
    "  return [item for item in list_ if item != element]\n",
    "\n",
    "# Example:-\n",
    "my_list = [1, 2, 3, 2, 4, 2, 5, 6, 8, 5, 8]\n",
    "element_to_remove = 8\n",
    "remove_all_occurrences(my_list, element_to_remove)\n"
   ]
  },
  {
   "cell_type": "code",
   "execution_count": 98,
   "id": "35e19037-8a25-4d2d-84c5-6131170fd3ea",
   "metadata": {},
   "outputs": [
    {
     "data": {
      "text/plain": [
       "84"
      ]
     },
     "execution_count": 98,
     "metadata": {},
     "output_type": "execute_result"
    }
   ],
   "source": [
    "# 12)  Implement a code to find the second largest number in a given list of integers.\n",
    "def find_second_largest(numbers):\n",
    "  if len(numbers) < 2:\n",
    "    return None\n",
    "  largest = max(numbers)\n",
    "  second_largest = float('-inf')\n",
    "  for num in numbers:\n",
    "    if num != largest and num > second_largest:\n",
    "      second_largest = num\n",
    "  return second_largest\n",
    "\n",
    "# Example:-\n",
    "numbers = [12, 35, 9, 42, 15,48,50,84,69,54,96,49]\n",
    "find_second_largest(numbers)"
   ]
  },
  {
   "cell_type": "code",
   "execution_count": 109,
   "id": "36138134-7b54-4949-bc40-cd2a7a7b3b25",
   "metadata": {},
   "outputs": [
    {
     "data": {
      "text/plain": [
       "{2: 1, 5: 1, 6: 3, 8: 2, 9: 1, 4: 2}"
      ]
     },
     "execution_count": 109,
     "metadata": {},
     "output_type": "execute_result"
    }
   ],
   "source": [
    "# 13)  Create a code to count the occurrences of each element in a list and return a dictionary with elements as keys and -\n",
    "# their counts as values.\n",
    "def count_occurrences(list_):\n",
    "  count_dict = {}\n",
    "  for item in list_:\n",
    "    count_dict[item] = count_dict.get(item, 0) + 1\n",
    "  return count_dict\n",
    "\n",
    "# Example:-\n",
    "my_list = [2,5,6,8,9,4,6,4,6,8]\n",
    "count_occurrences(my_list)"
   ]
  },
  {
   "cell_type": "code",
   "execution_count": 123,
   "id": "e4d645fe-9782-4427-9f69-9ac84956b510",
   "metadata": {},
   "outputs": [
    {
     "name": "stdout",
     "output_type": "stream",
     "text": [
      "[5, 4, 3, 2, 1]\n"
     ]
    }
   ],
   "source": [
    "# 14)  Write a code to reverse a list in-place without using any built-in reverse functions.\n",
    "def reverse_list(list_):\n",
    "  left, right = 0, len(list_) - 1\n",
    "  while left < right:\n",
    "    list_[left], list_[right] = list_[right], list_[left]\n",
    "    left += 1\n",
    "    right -= 1\n",
    "# Example:-\n",
    "my_list = [1, 2, 3, 4, 5]\n",
    "reverse_list(my_list)\n",
    "print(my_list)"
   ]
  },
  {
   "cell_type": "code",
   "execution_count": 129,
   "id": "6f17e6f2-e625-410a-ac67-90c473a8120b",
   "metadata": {},
   "outputs": [
    {
     "data": {
      "text/plain": [
       "[1, 2, 3, 4, 5, 6, 8]"
      ]
     },
     "execution_count": 129,
     "metadata": {},
     "output_type": "execute_result"
    }
   ],
   "source": [
    "# 15)  Implement a code to find and remove duplicates from a list while preserving the original order of elements.\n",
    "def remove_duplicates(list_):\n",
    "  result = []\n",
    "  seen = set()\n",
    "  for item in list_:\n",
    "    if item not in seen:\n",
    "      result.append(item)\n",
    "      seen.add(item)\n",
    "  return result\n",
    "\n",
    "# Example:-\n",
    "remove_duplicates([1, 2, 3, 2, 4, 1, 5,5,6,8,6,4,6,5,4,4])"
   ]
  },
  {
   "cell_type": "code",
   "execution_count": 132,
   "id": "5c51fc79-ba8a-4e1d-a230-ee56a0ecbedd",
   "metadata": {},
   "outputs": [
    {
     "data": {
      "text/plain": [
       "True"
      ]
     },
     "execution_count": 132,
     "metadata": {},
     "output_type": "execute_result"
    }
   ],
   "source": [
    "# 16)  Create a code to check if a given list is sorted (either in ascending or descending order) or not.\n",
    "def is_sorted(list_):\n",
    "  ascending = descending = True\n",
    "  for i in range(len(list_) - 1):\n",
    "    if list_[i] > list_[i + 1]:\n",
    "      ascending = False\n",
    "    if list_[i] < list_[i + 1]:\n",
    "      descending = False\n",
    "  return ascending or descending\n",
    "\n",
    "# Example:-\n",
    "is_sorted([1, 2, 3, 4, 5])"
   ]
  },
  {
   "cell_type": "code",
   "execution_count": 148,
   "id": "8215fd2d-40cf-4fda-aae5-c3386a92f572",
   "metadata": {},
   "outputs": [
    {
     "data": {
      "text/plain": [
       "[1, 2, 3, 4, 5, 6]"
      ]
     },
     "execution_count": 148,
     "metadata": {},
     "output_type": "execute_result"
    }
   ],
   "source": [
    "# 17)  Write a code to merge two sorted lists into a single sorted list.\n",
    "def merge_sorted_lists(list1, list2):\n",
    "  merged = []\n",
    "  i, j = 0, 0\n",
    "  while i < len(list1) and j < len(list2):\n",
    "    if list1[i] < list2[j]:\n",
    "      merged.append(list1[i])\n",
    "      i += 1\n",
    "    else:\n",
    "      merged.append(list2[j])\n",
    "      j += 1\n",
    "  merged.extend(list1[i:])\n",
    "  merged.extend(list2[j:])\n",
    "  return merged\n",
    "# Example:-\n",
    "merge_sorted_lists([1, 3, 5], [2, 4, 6])"
   ]
  },
  {
   "cell_type": "code",
   "execution_count": 149,
   "id": "53c9149c-f82e-4b28-90f3-d9d47b9dcc69",
   "metadata": {},
   "outputs": [
    {
     "data": {
      "text/plain": [
       "[2, 3]"
      ]
     },
     "execution_count": 149,
     "metadata": {},
     "output_type": "execute_result"
    }
   ],
   "source": [
    "# 18)  Implement a code to find the intersection of two given lists.\n",
    "def find_intersection(list1, list2):\n",
    "  set1 = set(list1)\n",
    "  set2 = set(list2)\n",
    "  intersection = list(set1.intersection(set2))\n",
    "  return intersection\n",
    "# Example:-\n",
    "find_intersection([1, 2, 3, 4],[2, 3, 5, 6])\n"
   ]
  },
  {
   "cell_type": "code",
   "execution_count": 151,
   "id": "51356f15-5ee2-489d-b3c6-4883abb18605",
   "metadata": {},
   "outputs": [
    {
     "data": {
      "text/plain": [
       "[1, 2, 3, 4, 5, 6]"
      ]
     },
     "execution_count": 151,
     "metadata": {},
     "output_type": "execute_result"
    }
   ],
   "source": [
    "# 19)  Create a code to find the union of two lists without duplicates.\n",
    "def find_union(list1, list2):\n",
    "  union_set = set(list1 + list2)\n",
    "  return list(union_set)\n",
    "# Example:-\n",
    "find_union( [1, 2, 3, 4],[2, 3, 5, 6])"
   ]
  },
  {
   "cell_type": "code",
   "execution_count": 164,
   "id": "ed42b5ca-0618-4a61-8acd-7a2235a4ca7f",
   "metadata": {},
   "outputs": [
    {
     "name": "stdout",
     "output_type": "stream",
     "text": [
      "[2, 3, 5, 1, 4]\n"
     ]
    }
   ],
   "source": [
    "# 20)  Write a code to shuffle a given list randomly without using any built-in shuffle functions.\n",
    "import random\n",
    "\n",
    "def shuffle_list(list_):\n",
    "  for i in range(len(list_) - 1, 0, -1):\n",
    "    j = random.randint(0, i)\n",
    "    list_[i], list_[j] = list_[j], list_[i]\n",
    "\n",
    "# Example:-\n",
    "my_list = [1, 2, 3, 4, 5]\n",
    "shuffle_list(my_list)\n",
    "print(my_list)"
   ]
  },
  {
   "cell_type": "code",
   "execution_count": 166,
   "id": "be3df31c-969d-482d-83df-77d273e6a89a",
   "metadata": {},
   "outputs": [
    {
     "data": {
      "text/plain": [
       "(3, 4)"
      ]
     },
     "execution_count": 166,
     "metadata": {},
     "output_type": "execute_result"
    }
   ],
   "source": [
    "# 21) Write a code that takes two tuples as input and returns a new tuple containing elements that \n",
    "# are common to both input tuples.\n",
    "def common_elements(tuple1, tuple2):\n",
    "  return tuple(set(tuple1) & set(tuple2))\n",
    "\n",
    "# Example:-:\n",
    "common_elements((1, 2, 3, 4), (3, 4, 5, 6))"
   ]
  },
  {
   "cell_type": "code",
   "execution_count": 168,
   "id": "0de4907d-5fb8-49c7-b785-b9fe269c8b89",
   "metadata": {},
   "outputs": [
    {
     "data": {
      "text/plain": [
       "(1, 2, 3, 4, 5, 6)"
      ]
     },
     "execution_count": 168,
     "metadata": {},
     "output_type": "execute_result"
    }
   ],
   "source": [
    "# 22) Create a code that prompts the user to enter two sets of integers separated by commas. Then, \n",
    "# print the intersection of these two sets.\n",
    "def concatenate_tuples(tuple1, tuple2):\n",
    "  return tuple1 + tuple2\n",
    "\n",
    "# Example:-\n",
    "concatenate_tuples((1, 2, 3), (4, 5, 6))"
   ]
  },
  {
   "cell_type": "code",
   "execution_count": 170,
   "id": "0d73cd42-357d-48ed-b418-6d40cd6b7f88",
   "metadata": {},
   "outputs": [
    {
     "data": {
      "text/plain": [
       "(1, 2, 3, 4, 5, 6)"
      ]
     },
     "execution_count": 170,
     "metadata": {},
     "output_type": "execute_result"
    }
   ],
   "source": [
    "# 23) Write a code to concatenate two tuples. The function should take two tuples as input and return \n",
    "# a new tuple containing elements from both input tuples.\n",
    "def concatenate_tuples(tuple1, tuple2):\n",
    "  return tuple1 + tuple2\n",
    "\n",
    "# Example:-\n",
    "concatenate_tuples((1, 2, 3), (4, 5, 6))"
   ]
  },
  {
   "cell_type": "code",
   "execution_count": 199,
   "id": "9f7aa19d-685d-48d2-859b-c740c906ffbb",
   "metadata": {},
   "outputs": [
    {
     "name": "stdin",
     "output_type": "stream",
     "text": [
      "Enter the first set of strings, separated by commas:  rehan,zaid,fahad,affan\n",
      "Enter the second set of strings, separated by commas:  affan,rehan,zaid,sameer,arbaz\n"
     ]
    },
    {
     "name": "stdout",
     "output_type": "stream",
     "text": [
      "Elements in the first set but not in the second set: {'fahad'}\n"
     ]
    }
   ],
   "source": [
    "# 24) Develop a code that prompts the user to input two sets of strings. Then, print the elements\n",
    "# that are present in the first set but not in the second set.\n",
    "def get_set_from_input(prompt):\n",
    "    # Prompt the user to enter a set of strings, separated by commas\n",
    "    user_input = input(prompt)\n",
    "    \n",
    "    # Split the input string by commas and strip any extra whitespace\n",
    "    # Convert the resulting list into a set\n",
    "    return set(item.strip() for item in user_input.split(','))\n",
    "\n",
    "def main():\n",
    "    # Get the first and second sets from user input\n",
    "    set1 = get_set_from_input(\"Enter the first set of strings, separated by commas: \")\n",
    "    set2 = get_set_from_input(\"Enter the second set of strings, separated by commas: \")\n",
    "    \n",
    "    # Calculate the difference between the two sets\n",
    "    difference = set1.difference(set2)\n",
    "    \n",
    "    # Print the difference\n",
    "    print(\"Elements in the first set but not in the second set:\", difference)\n",
    "\n",
    "# Run the main function\n",
    "if __name__ == \"__main__\":\n",
    "    main()\n"
   ]
  },
  {
   "cell_type": "code",
   "execution_count": 174,
   "id": "dbf3e9b6-5db1-4770-bcdb-275d885c4e1a",
   "metadata": {},
   "outputs": [
    {
     "data": {
      "text/plain": [
       "(2, 3, 4)"
      ]
     },
     "execution_count": 174,
     "metadata": {},
     "output_type": "execute_result"
    }
   ],
   "source": [
    "# 25) Create a code that takes a tuple and two integers as input. The function should return a new \n",
    "# tuple containing elements from the original tuple within the specified range of indices.\n",
    "def extract_elements(tuple_, start, end):\n",
    "  return tuple(tuple_[start:end])\n",
    "\n",
    "# Example:-\n",
    "extract_elements((1, 2, 3, 4, 5), 1,  4)"
   ]
  },
  {
   "cell_type": "code",
   "execution_count": 175,
   "id": "489e30d9-088f-40fa-8e2e-74fe986bdac7",
   "metadata": {},
   "outputs": [
    {
     "name": "stdin",
     "output_type": "stream",
     "text": [
      "Enter first set of characters:  1,4,4,5,6,1,1,2,3,8,6\n",
      "Enter second set of characters:  3,2,5,4,4,5,6,8,1,1,2,2\n"
     ]
    },
    {
     "name": "stdout",
     "output_type": "stream",
     "text": [
      "Union: {'6', '3', '4', '5', ',', '8', '1', '2'}\n"
     ]
    }
   ],
   "source": [
    "# 26. Write a code that prompts the user to input two sets of characters. Then, \n",
    "# print the union of these two sets.\n",
    "def union_of_sets():\n",
    "  set1 = set(input(\"Enter first set of characters: \"))\n",
    "  set2 = set(input(\"Enter second set of characters: \"))\n",
    "  union = set1 | set2\n",
    "  print(\"Union:\", union)\n",
    "\n",
    "# Example:-\n",
    "union_of_sets()"
   ]
  },
  {
   "cell_type": "code",
   "execution_count": 200,
   "id": "89bb0ba0-b176-4f78-b3a0-e000590e1942",
   "metadata": {},
   "outputs": [
    {
     "name": "stdout",
     "output_type": "stream",
     "text": [
      "Minimum value: 1\n",
      "Maximum value: 9\n"
     ]
    }
   ],
   "source": [
    "# 27. Develop a code that takes a tuple of integers as input. The function should return the maximum and \n",
    "# minimum values from the tuple using tuple unpacking.\n",
    "def find_max_min(numbers):\n",
    "    # Ensure the input is a tuple\n",
    "    if not isinstance(numbers, tuple):\n",
    "        raise ValueError(\"Input must be a tuple\")\n",
    "    \n",
    "    # Ensure the tuple is not empty\n",
    "    if not numbers:\n",
    "        raise ValueError(\"Tuple is empty\")\n",
    "    \n",
    "    # Use the min() and max() functions to find the minimum and maximum values\n",
    "    min_val = min(numbers)\n",
    "    max_val = max(numbers)\n",
    "    \n",
    "    # Use tuple unpacking to return the results\n",
    "    return min_val, max_val\n",
    "\n",
    "# Example:-\n",
    "input_tuple = (5, 3, 9, 1, 7)\n",
    "minimum, maximum = find_max_min(input_tuple)\n",
    "print(f\"Minimum value: {minimum}\")\n",
    "print(f\"Maximum value: {maximum}\")\n"
   ]
  },
  {
   "cell_type": "code",
   "execution_count": 179,
   "id": "44a953fd-c793-4c75-81f1-b29a2371e349",
   "metadata": {},
   "outputs": [
    {
     "name": "stdout",
     "output_type": "stream",
     "text": [
      "Union: {1, 2, 3, 4, 5, 6}\n",
      "Intersection: {3, 4}\n",
      "Difference (set1 - set2): {1, 2}\n"
     ]
    }
   ],
   "source": [
    "# 28. Create a code that defines two sets of integers. Then, print the union, intersection, and \n",
    "# difference of these two sets.\n",
    "def set_operations():\n",
    "  set1 = {1, 2, 3, 4}\n",
    "  set2 = {3, 4, 5, 6}\n",
    "  union = set1 | set2\n",
    "  intersection = set1 & set2\n",
    "  difference = set1 - set2\n",
    "  print(\"Union:\", union)\n",
    "  print(\"Intersection:\", intersection)\n",
    "  print(\"Difference (set1 - set2):\", difference)\n",
    "\n",
    "# Example:-\n",
    "set_operations()"
   ]
  },
  {
   "cell_type": "code",
   "execution_count": 193,
   "id": "9a7c1d67-41d4-44b5-ad95-ba33b539c755",
   "metadata": {},
   "outputs": [
    {
     "data": {
      "text/plain": [
       "3"
      ]
     },
     "execution_count": 193,
     "metadata": {},
     "output_type": "execute_result"
    }
   ],
   "source": [
    "# 29. Write a code that takes a tuple and an element as input. The function should return the count of \n",
    "# occurrences of the given element in the tuple.\n",
    "def count_occurrences(tuple_, element):\n",
    "  return tuple_.count(element)\n",
    "\n",
    "# Example:-\n",
    "count_occurrences((1, 2, 3, 2, 4, 2), 2)"
   ]
  },
  {
   "cell_type": "code",
   "execution_count": 225,
   "id": "e263b0c1-0cde-4c10-a85f-d8044649d429",
   "metadata": {},
   "outputs": [
    {
     "name": "stdin",
     "output_type": "stream",
     "text": [
      "Enter the first set of strings, separated by commas:  rehan,fahad,zaid'\n",
      "Enter the second set of strings, separated by commas:  rehan,zaid,arbaz,sameer,shoaib\n"
     ]
    },
    {
     "name": "stdout",
     "output_type": "stream",
     "text": [
      "Symmetric difference: {\"zaid'\", 'sameer', 'fahad', 'zaid', 'arbaz', 'shoaib'}\n"
     ]
    }
   ],
   "source": [
    "# 30. Develop a code that prompts the user to input two sets of strings. Then, \n",
    "# print the symmetric difference of these two sets.\n",
    "def get_set_from_input(prompt):\n",
    "    # Prompt the user to enter a set of strings, separated by commas\n",
    "    user_input = input(prompt)\n",
    "    \n",
    "    # Split the input string by commas and strip any extra whitespace\n",
    "    # Convert the resulting list into a set\n",
    "    return set(item.strip() for item in user_input.split(','))\n",
    "\n",
    "def main():\n",
    "    # Get the first and second sets from user input\n",
    "    set1 = get_set_from_input(\"Enter the first set of strings, separated by commas: \")\n",
    "    set2 = get_set_from_input(\"Enter the second set of strings, separated by commas: \")\n",
    "    \n",
    "    # Calculate the symmetric difference between the two sets\n",
    "    symmetric_diff = set1.symmetric_difference(set2)\n",
    "    \n",
    "    # Print the symmetric difference\n",
    "    print(\"Symmetric difference:\", symmetric_diff)\n",
    "\n",
    "# Run the main function\n",
    "if __name__ == \"__main__\":\n",
    "    main()"
   ]
  },
  {
   "cell_type": "code",
   "execution_count": 207,
   "id": "c58f57e7-8a05-4f25-a5aa-9e45241db752",
   "metadata": {},
   "outputs": [
    {
     "data": {
      "text/plain": [
       "{'apple': 2, 'Sitafal': 3, 'banana': 2, 'orange': 1, 'mango': 1}"
      ]
     },
     "execution_count": 207,
     "metadata": {},
     "output_type": "execute_result"
    }
   ],
   "source": [
    "# 31. Write a code that takes a list of words as input and returns a dictionary where the keys  \n",
    "# are unique words and the values are the frequencies of those words in the input list.\n",
    "def word_frequency(words):\n",
    "  word_count = {}\n",
    "  for word in words:\n",
    "    word_count[word] = word_count.get(word, 0) + 1\n",
    "  return word_count\n",
    "# Example:-\n",
    "word_frequency([\"apple\", \"Sitafal\",\"banana\",\"Sitafal\", \"apple\", \"orange\",\"Sitafal\", \"banana\",\"mango\"])"
   ]
  },
  {
   "cell_type": "code",
   "execution_count": 224,
   "id": "8858e0b9-24dc-45ed-81b9-78377f02aa00",
   "metadata": {},
   "outputs": [
    {
     "data": {
      "text/plain": [
       "{'a': 1, 'b': 5, 'c': 4}"
      ]
     },
     "execution_count": 224,
     "metadata": {},
     "output_type": "execute_result"
    }
   ],
   "source": [
    "# 32. Write a code that takes two dictionaries as input and merges them into a single dictionary. \n",
    "# If there are common keys, the values should be added together.\n",
    "def merge_dictionaries(dict1, dict2):\n",
    "  merged_dict = dict1.copy()\n",
    "  for key, value in dict2.items():\n",
    "    merged_dict[key] = merged_dict.get(key, 0) + value\n",
    "  return merged_dict\n",
    "# Example:-\n",
    "merge_dictionaries({'a': 1, 'b': 2}, {'b': 3, 'c': 4})"
   ]
  },
  {
   "cell_type": "code",
   "execution_count": 226,
   "id": "36c2b603-20f9-45d6-8fd4-053cbd8ce77e",
   "metadata": {},
   "outputs": [
    {
     "data": {
      "text/plain": [
       "'value'"
      ]
     },
     "execution_count": 226,
     "metadata": {},
     "output_type": "execute_result"
    }
   ],
   "source": [
    "# 33. Write a code to access a value in a nested dictionary. The function should take the dictionary \n",
    "# and a list of keys as input,and return the corresponding value. If any of the keys do not exist \n",
    "# in the dictionary, the function should return None.\n",
    "def access_nested_value(dictionary, keys):\n",
    "  for key in keys:\n",
    "    if key in dictionary:\n",
    "      dictionary = dictionary[key]\n",
    "    else:\n",
    "      return None\n",
    "  return dictionary\n",
    "# Example:-\n",
    "access_nested_value({'level1': {'level2': {'level3': 'value'}}}, ['level1', 'level2', 'level3'])"
   ]
  },
  {
   "cell_type": "code",
   "execution_count": 222,
   "id": "469ce98f-9b5b-4d68-8cf2-097c242a43d5",
   "metadata": {},
   "outputs": [
    {
     "data": {
      "text/plain": [
       "{'b': 1, 'c': 2, 'a': 3}"
      ]
     },
     "execution_count": 222,
     "metadata": {},
     "output_type": "execute_result"
    }
   ],
   "source": [
    "# 34. Write a code that takes a dictionary as input and returns a sorted version of it based on the values.\n",
    "# You can choose whether to sort in ascending or descending order.\n",
    "def sort_dict_by_values(dictionary, reverse=False):\n",
    "  return dict(sorted(dictionary.items(), key=lambda item: item[1], reverse=reverse))\n",
    "# Example:-\n",
    "sort_dict_by_values({'a': 3, 'b': 1, 'c': 2})"
   ]
  },
  {
   "cell_type": "code",
   "execution_count": 227,
   "id": "baac4a27-d7ea-4a1e-b822-25345f714e92",
   "metadata": {},
   "outputs": [
    {
     "data": {
      "text/plain": [
       "{1: ['a'], 2: ['b', 'c']}"
      ]
     },
     "execution_count": 227,
     "metadata": {},
     "output_type": "execute_result"
    }
   ],
   "source": [
    "# 35. Write a code that inverts a dictionary, swapping keys and values. Ensure that the inverted dictionary\n",
    "# correctly handles cases where multiple keys have the same value by storing the keys as a list in \n",
    "# the inverted dictionary.\n",
    "def invert_dictionary(dictionary):\n",
    "  inverted_dict = {}\n",
    "  for key, value in dictionary.items():\n",
    "    inverted_dict.setdefault(value, []).append(key)\n",
    "  return inverted_dict\n",
    "# Example:-\n",
    "invert_dictionary({'a': 1, 'b': 2, 'c': 2})"
   ]
  },
  {
   "cell_type": "code",
   "execution_count": null,
   "id": "249ebc29-c549-4250-ac5e-80a9f62cd908",
   "metadata": {},
   "outputs": [],
   "source": []
  }
 ],
 "metadata": {
  "kernelspec": {
   "display_name": "Python 3 (ipykernel)",
   "language": "python",
   "name": "python3"
  },
  "language_info": {
   "codemirror_mode": {
    "name": "ipython",
    "version": 3
   },
   "file_extension": ".py",
   "mimetype": "text/x-python",
   "name": "python",
   "nbconvert_exporter": "python",
   "pygments_lexer": "ipython3",
   "version": "3.10.8"
  }
 },
 "nbformat": 4,
 "nbformat_minor": 5
}
